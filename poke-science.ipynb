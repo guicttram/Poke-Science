{
 "cells": [
  {
   "cell_type": "markdown",
   "metadata": {
    "id": "FKhpJqLbPIlB"
   },
   "source": [
    "# Data Science with Pokémon - Study Case (in progress)\n",
    "\n",
    "### By Guilherme Ceratti Ramos"
   ]
  },
  {
   "cell_type": "markdown",
   "metadata": {
    "id": "jw9FWNtxPIlF"
   },
   "source": [
    "    This Notebook is meant to be a personal study in order for me to learn Data Science. The subject has been chosen for a few reasons:\n",
    "    \n",
    "        1) The Dataset doesn't contain an extremely large number of columns and rows, but just enough so that I can begin my training with a small Data Science project;\n",
    "        \n",
    "        2) I like the subject. Once a college professor told me that studying with subjects we enjoy is very helpful in the beginning to keep us motivated;\n",
    "        \n",
    "        3) The way this subject can be utilized. Pokémon have a lot of different status and types. It's the perfect example for training a clusterization or classification algorithm, altought virtually any model can be applied.\n",
    "        "
   ]
  },
  {
   "cell_type": "markdown",
   "metadata": {
    "id": "ws2w4OCePIlG"
   },
   "source": [
    "### Question to be answered during this study:\n",
    "    \n",
    "        1) Is it possible to build a classifier to identify Legendary Pokémon?\n",
    "        2) How do height and weight of a Pokemón correlate with it's status?\n",
    "        3) Which factors influentiate Experience Growth and Egg Steps? Are these quantities correlated?\n",
    "        4) Which type is stronger, overall? And which is weakest?\n",
    "        5) Which type has higher probability of being a Legendary Pokémon?\n",
    "        \n",
    "        [CHALLENGE] Is it possible to build a Pokémon \"dream team\"? A team of 6 Pokémon that inflicts the most damage while still being strong agains another team of 6 Pokémon?"
   ]
  },
  {
   "cell_type": "markdown",
   "metadata": {
    "id": "NjjXQu9YPIlG"
   },
   "source": [
    "## Imports and preparations"
   ]
  },
  {
   "cell_type": "code",
   "execution_count": 1,
   "metadata": {
    "colab": {
     "base_uri": "https://localhost:8080/"
    },
    "id": "5XV01aB9PIlH",
    "outputId": "7f396b63-5fe2-46f5-8c41-93a7d4bb0b7b"
   },
   "outputs": [],
   "source": [
    "#!pip install requests\n",
    "#!pip install pandas\n",
    "#!pip install numpy\n",
    "#!pip install seaborn\n",
    "#!python -m pip install -U matplotlib\n",
    "#!pip install -U scikit-learn"
   ]
  },
  {
   "cell_type": "code",
   "execution_count": 2,
   "metadata": {
    "id": "zyveRYjOPIlI"
   },
   "outputs": [],
   "source": [
    "import pandas as pd\n",
    "import numpy as np\n",
    "import os"
   ]
  },
  {
   "cell_type": "code",
   "execution_count": 3,
   "metadata": {},
   "outputs": [],
   "source": [
    "filepath = os.path.abspath('pokemon.csv')"
   ]
  },
  {
   "cell_type": "code",
   "execution_count": 5,
   "metadata": {
    "colab": {
     "base_uri": "https://localhost:8080/",
     "height": 391
    },
    "id": "JnwAdHDEPIlI",
    "outputId": "65f46eab-6c85-4091-ef53-8b09b9059a64"
   },
   "outputs": [
    {
     "data": {
      "text/html": [
       "<div>\n",
       "<style scoped>\n",
       "    .dataframe tbody tr th:only-of-type {\n",
       "        vertical-align: middle;\n",
       "    }\n",
       "\n",
       "    .dataframe tbody tr th {\n",
       "        vertical-align: top;\n",
       "    }\n",
       "\n",
       "    .dataframe thead th {\n",
       "        text-align: right;\n",
       "    }\n",
       "</style>\n",
       "<table border=\"1\" class=\"dataframe\">\n",
       "  <thead>\n",
       "    <tr style=\"text-align: right;\">\n",
       "      <th></th>\n",
       "      <th>abilities</th>\n",
       "      <th>against_bug</th>\n",
       "      <th>against_dark</th>\n",
       "      <th>against_dragon</th>\n",
       "      <th>against_electric</th>\n",
       "      <th>against_fairy</th>\n",
       "      <th>against_fight</th>\n",
       "      <th>against_fire</th>\n",
       "      <th>against_flying</th>\n",
       "      <th>against_ghost</th>\n",
       "      <th>...</th>\n",
       "      <th>percentage_male</th>\n",
       "      <th>pokedex_number</th>\n",
       "      <th>sp_attack</th>\n",
       "      <th>sp_defense</th>\n",
       "      <th>speed</th>\n",
       "      <th>type1</th>\n",
       "      <th>type2</th>\n",
       "      <th>weight_kg</th>\n",
       "      <th>generation</th>\n",
       "      <th>is_legendary</th>\n",
       "    </tr>\n",
       "  </thead>\n",
       "  <tbody>\n",
       "    <tr>\n",
       "      <th>0</th>\n",
       "      <td>['Overgrow', 'Chlorophyll']</td>\n",
       "      <td>1.0</td>\n",
       "      <td>1.0</td>\n",
       "      <td>1.0</td>\n",
       "      <td>0.5</td>\n",
       "      <td>0.5</td>\n",
       "      <td>0.5</td>\n",
       "      <td>2.0</td>\n",
       "      <td>2.0</td>\n",
       "      <td>1.0</td>\n",
       "      <td>...</td>\n",
       "      <td>88.1</td>\n",
       "      <td>1</td>\n",
       "      <td>65</td>\n",
       "      <td>65</td>\n",
       "      <td>45</td>\n",
       "      <td>grass</td>\n",
       "      <td>poison</td>\n",
       "      <td>6.9</td>\n",
       "      <td>1</td>\n",
       "      <td>0</td>\n",
       "    </tr>\n",
       "    <tr>\n",
       "      <th>1</th>\n",
       "      <td>['Overgrow', 'Chlorophyll']</td>\n",
       "      <td>1.0</td>\n",
       "      <td>1.0</td>\n",
       "      <td>1.0</td>\n",
       "      <td>0.5</td>\n",
       "      <td>0.5</td>\n",
       "      <td>0.5</td>\n",
       "      <td>2.0</td>\n",
       "      <td>2.0</td>\n",
       "      <td>1.0</td>\n",
       "      <td>...</td>\n",
       "      <td>88.1</td>\n",
       "      <td>2</td>\n",
       "      <td>80</td>\n",
       "      <td>80</td>\n",
       "      <td>60</td>\n",
       "      <td>grass</td>\n",
       "      <td>poison</td>\n",
       "      <td>13.0</td>\n",
       "      <td>1</td>\n",
       "      <td>0</td>\n",
       "    </tr>\n",
       "    <tr>\n",
       "      <th>2</th>\n",
       "      <td>['Overgrow', 'Chlorophyll']</td>\n",
       "      <td>1.0</td>\n",
       "      <td>1.0</td>\n",
       "      <td>1.0</td>\n",
       "      <td>0.5</td>\n",
       "      <td>0.5</td>\n",
       "      <td>0.5</td>\n",
       "      <td>2.0</td>\n",
       "      <td>2.0</td>\n",
       "      <td>1.0</td>\n",
       "      <td>...</td>\n",
       "      <td>88.1</td>\n",
       "      <td>3</td>\n",
       "      <td>122</td>\n",
       "      <td>120</td>\n",
       "      <td>80</td>\n",
       "      <td>grass</td>\n",
       "      <td>poison</td>\n",
       "      <td>100.0</td>\n",
       "      <td>1</td>\n",
       "      <td>0</td>\n",
       "    </tr>\n",
       "    <tr>\n",
       "      <th>3</th>\n",
       "      <td>['Blaze', 'Solar Power']</td>\n",
       "      <td>0.5</td>\n",
       "      <td>1.0</td>\n",
       "      <td>1.0</td>\n",
       "      <td>1.0</td>\n",
       "      <td>0.5</td>\n",
       "      <td>1.0</td>\n",
       "      <td>0.5</td>\n",
       "      <td>1.0</td>\n",
       "      <td>1.0</td>\n",
       "      <td>...</td>\n",
       "      <td>88.1</td>\n",
       "      <td>4</td>\n",
       "      <td>60</td>\n",
       "      <td>50</td>\n",
       "      <td>65</td>\n",
       "      <td>fire</td>\n",
       "      <td>NaN</td>\n",
       "      <td>8.5</td>\n",
       "      <td>1</td>\n",
       "      <td>0</td>\n",
       "    </tr>\n",
       "    <tr>\n",
       "      <th>4</th>\n",
       "      <td>['Blaze', 'Solar Power']</td>\n",
       "      <td>0.5</td>\n",
       "      <td>1.0</td>\n",
       "      <td>1.0</td>\n",
       "      <td>1.0</td>\n",
       "      <td>0.5</td>\n",
       "      <td>1.0</td>\n",
       "      <td>0.5</td>\n",
       "      <td>1.0</td>\n",
       "      <td>1.0</td>\n",
       "      <td>...</td>\n",
       "      <td>88.1</td>\n",
       "      <td>5</td>\n",
       "      <td>80</td>\n",
       "      <td>65</td>\n",
       "      <td>80</td>\n",
       "      <td>fire</td>\n",
       "      <td>NaN</td>\n",
       "      <td>19.0</td>\n",
       "      <td>1</td>\n",
       "      <td>0</td>\n",
       "    </tr>\n",
       "  </tbody>\n",
       "</table>\n",
       "<p>5 rows × 41 columns</p>\n",
       "</div>"
      ],
      "text/plain": [
       "                     abilities  against_bug  against_dark  against_dragon  \\\n",
       "0  ['Overgrow', 'Chlorophyll']          1.0           1.0             1.0   \n",
       "1  ['Overgrow', 'Chlorophyll']          1.0           1.0             1.0   \n",
       "2  ['Overgrow', 'Chlorophyll']          1.0           1.0             1.0   \n",
       "3     ['Blaze', 'Solar Power']          0.5           1.0             1.0   \n",
       "4     ['Blaze', 'Solar Power']          0.5           1.0             1.0   \n",
       "\n",
       "   against_electric  against_fairy  against_fight  against_fire  \\\n",
       "0               0.5            0.5            0.5           2.0   \n",
       "1               0.5            0.5            0.5           2.0   \n",
       "2               0.5            0.5            0.5           2.0   \n",
       "3               1.0            0.5            1.0           0.5   \n",
       "4               1.0            0.5            1.0           0.5   \n",
       "\n",
       "   against_flying  against_ghost  ...  percentage_male  pokedex_number  \\\n",
       "0             2.0            1.0  ...             88.1               1   \n",
       "1             2.0            1.0  ...             88.1               2   \n",
       "2             2.0            1.0  ...             88.1               3   \n",
       "3             1.0            1.0  ...             88.1               4   \n",
       "4             1.0            1.0  ...             88.1               5   \n",
       "\n",
       "   sp_attack  sp_defense  speed  type1   type2  weight_kg  generation  \\\n",
       "0         65          65     45  grass  poison        6.9           1   \n",
       "1         80          80     60  grass  poison       13.0           1   \n",
       "2        122         120     80  grass  poison      100.0           1   \n",
       "3         60          50     65   fire     NaN        8.5           1   \n",
       "4         80          65     80   fire     NaN       19.0           1   \n",
       "\n",
       "   is_legendary  \n",
       "0             0  \n",
       "1             0  \n",
       "2             0  \n",
       "3             0  \n",
       "4             0  \n",
       "\n",
       "[5 rows x 41 columns]"
      ]
     },
     "execution_count": 5,
     "metadata": {},
     "output_type": "execute_result"
    }
   ],
   "source": [
    "\n",
    "df = pd.read_csv(filepath)\n",
    "df.head()"
   ]
  },
  {
   "cell_type": "code",
   "execution_count": 7,
   "metadata": {
    "id": "K0NTMq3ePIlJ"
   },
   "outputs": [
    {
     "data": {
      "text/plain": [
       "Index(['abilities', 'against_bug', 'against_dark', 'against_dragon',\n",
       "       'against_electric', 'against_fairy', 'against_fight', 'against_fire',\n",
       "       'against_flying', 'against_ghost', 'against_grass', 'against_ground',\n",
       "       'against_ice', 'against_normal', 'against_poison', 'against_psychic',\n",
       "       'against_rock', 'against_steel', 'against_water', 'attack',\n",
       "       'base_egg_steps', 'base_happiness', 'base_total', 'capture_rate',\n",
       "       'classfication', 'defense', 'experience_growth', 'height_m', 'hp',\n",
       "       'japanese_name', 'name', 'percentage_male', 'pokedex_number',\n",
       "       'sp_attack', 'sp_defense', 'speed', 'type1', 'type2', 'weight_kg',\n",
       "       'generation', 'is_legendary'],\n",
       "      dtype='object')"
      ]
     },
     "execution_count": 7,
     "metadata": {},
     "output_type": "execute_result"
    }
   ],
   "source": [
    "df.columns"
   ]
  },
  {
   "cell_type": "markdown",
   "metadata": {},
   "source": [
    "Ok, let's take a look at the data."
   ]
  },
  {
   "cell_type": "code",
   "execution_count": 8,
   "metadata": {},
   "outputs": [],
   "source": [
    "import seaborn as sns\n",
    "import matplotlib.pyplot as plt"
   ]
  },
  {
   "cell_type": "markdown",
   "metadata": {},
   "source": [
    "Since our first goal is to classify legendary Pokémon, we'll now plot the data in order to compare the amount of normal Pokémon to Legendary Pokémon."
   ]
  },
  {
   "cell_type": "code",
   "execution_count": 9,
   "metadata": {},
   "outputs": [
    {
     "data": {
      "image/png": "[encoded data removed]",
      "text/plain": [
       "<Figure size 540x360 with 1 Axes>"
      ]
     },
     "metadata": {
      "needs_background": "light"
     },
     "output_type": "display_data"
    }
   ],
   "source": [
    "colors = ['green', 'purple']\n",
    "g = sns.catplot(        # Categorical plot\n",
    "    x='generation',     # Column for X-Axis\n",
    "    data=df,            # Data for the plot\n",
    "    kind='count',       # Different kinds of plot types. A bit tricky to understand.\n",
    "    hue='is_legendary', # Column that diferentiates the data to be analyzed \n",
    "    palette=colors,     # Defines color palette, obviously\n",
    "    height=5,           # Plot image size\n",
    "    aspect=1.5,         # Bar size\n",
    "    legend=False,       # Legend at the side of the plot. Looks better the way it's done below.\n",
    "    ).set_axis_labels('Generation', '# of Pokemon') # Kinda self-explanatory\n",
    "\n",
    "# This is the legend config. It's mostly self-explanatory.\n",
    "g.ax.legend(loc='upper center', bbox_to_anchor=(0.5, 1.1), shadow=True, ncol=2, labels=['Non Legendary', 'Legendary'])\n",
    "plt.show()"
   ]
  },
  {
   "cell_type": "markdown",
   "metadata": {},
   "source": [
    "Later gens seem to have more Legendary Pokemon than the previous one, but that doesn't tell us much.\n",
    "We must find out if there are any common features/traits that that the Legendary Pokémon have."
   ]
  },
  {
   "cell_type": "markdown",
   "metadata": {},
   "source": [
    "We know Legendary Pokemon are supposed to be \"rare\" and \"powerful\". The attributes that reflect these qualities may give us better insight as to how we can predict what is a legendary Pokemon."
   ]
  },
  {
   "cell_type": "markdown",
   "metadata": {},
   "source": [
    "Because Legendary Pokemon are \"rare\", capturing them should be tougher than catching non-legendary Pokemon. Let's take a look at the capture_rate feature and plot it."
   ]
  },
  {
   "cell_type": "code",
   "execution_count": 10,
   "metadata": {},
   "outputs": [
    {
     "name": "stderr",
     "output_type": "stream",
     "text": [
      "C:\\Users\\guilh\\anaconda3\\lib\\site-packages\\pandas\\core\\indexing.py:1637: SettingWithCopyWarning: \n",
      "A value is trying to be set on a copy of a slice from a DataFrame\n",
      "\n",
      "See the caveats in the documentation: https://pandas.pydata.org/pandas-docs/stable/user_guide/indexing.html#returning-a-view-versus-a-copy\n",
      "  self._setitem_single_block(indexer, value, name)\n",
      "C:\\Users\\guilh\\anaconda3\\lib\\site-packages\\seaborn\\categorical.py:1296: UserWarning: 58.3% of the points cannot be placed; you may want to decrease the size of the markers or use stripplot.\n",
      "  warnings.warn(msg, UserWarning)\n",
      "C:\\Users\\guilh\\anaconda3\\lib\\site-packages\\seaborn\\categorical.py:1296: UserWarning: 40.0% of the points cannot be placed; you may want to decrease the size of the markers or use stripplot.\n",
      "  warnings.warn(msg, UserWarning)\n"
     ]
    },
    {
     "data": {
      "text/plain": [
       "<AxesSubplot:xlabel='is_legendary', ylabel='capture_rate'>"
      ]
     },
     "execution_count": 10,
     "metadata": {},
     "output_type": "execute_result"
    },
    {
     "data": {
      "image/png": "[encoded data removed]",
      "text/plain": [
       "<Figure size 432x288 with 1 Axes>"
      ]
     },
     "metadata": {
      "needs_background": "light"
     },
     "output_type": "display_data"
    }
   ],
   "source": [
    "df_capture_rate = df.copy()\n",
    "df_capture_rate.capture_rate.iloc[773] = 225   # The data in this specific row isn't numeric. Probably an error in the extraction process.\n",
    "df_capture_rate.capture_rate = pd.to_numeric(df_capture_rate.capture_rate) # We have to transform the data from Object to Numeric in order to swarmplot it.\n",
    "\n",
    "sns.swarmplot(\n",
    "    x=df_capture_rate['is_legendary'],\n",
    "    y=df_capture_rate['capture_rate'],\n",
    "    size=5\n",
    "    )"
   ]
  },
  {
   "cell_type": "markdown",
   "metadata": {},
   "source": [
    "As expected, the capture rate of legendary Pokemon is significantly lower than their non-legendary counterparts. Now, because legendary Pokemon are also meant to be \"extremely powerful\", we must check their base stats to confirm that they are stronger than their non-legendary counterparts."
   ]
  },
  {
   "cell_type": "code",
   "execution_count": 11,
   "metadata": {},
   "outputs": [
    {
     "name": "stderr",
     "output_type": "stream",
     "text": [
      "C:\\Users\\guilh\\anaconda3\\lib\\site-packages\\seaborn\\categorical.py:1296: UserWarning: 28.6% of the points cannot be placed; you may want to decrease the size of the markers or use stripplot.\n",
      "  warnings.warn(msg, UserWarning)\n"
     ]
    },
    {
     "data": {
      "text/plain": [
       "<AxesSubplot:xlabel='is_legendary', ylabel='base_total'>"
      ]
     },
     "execution_count": 11,
     "metadata": {},
     "output_type": "execute_result"
    },
    {
     "data": {
      "image/png": "[encoded data removed]",
      "text/plain": [
       "<Figure size 432x288 with 1 Axes>"
      ]
     },
     "metadata": {
      "needs_background": "light"
     },
     "output_type": "display_data"
    }
   ],
   "source": [
    "sns.swarmplot(x=df['is_legendary'],\n",
    "             y=df['base_total'])"
   ]
  },
  {
   "cell_type": "markdown",
   "metadata": {},
   "source": [
    "Great! As expected, most legendary Pokemon have very strong base stats."
   ]
  },
  {
   "cell_type": "markdown",
   "metadata": {},
   "source": [
    "Now, using these two qualities, we can come up with the following plot:"
   ]
  },
  {
   "cell_type": "code",
   "execution_count": 12,
   "metadata": {},
   "outputs": [
    {
     "data": {
      "text/plain": [
       "<seaborn.axisgrid.FacetGrid at 0x2925c05ef10>"
      ]
     },
     "execution_count": 12,
     "metadata": {},
     "output_type": "execute_result"
    },
    {
     "data": {
      "image/png": "[encoded data removed]",
      "text/plain": [
       "<Figure size 720x360 with 2 Axes>"
      ]
     },
     "metadata": {
      "needs_background": "light"
     },
     "output_type": "display_data"
    }
   ],
   "source": [
    "df_capture_rate['capture_rate'].sort_values()\n",
    "sns.lmplot(x=\"base_total\",\n",
    "           y=\"capture_rate\",\n",
    "           hue=\"is_legendary\",\n",
    "           markers=['o', 'x'],    # Set custom markers for each group in the hue property\n",
    "           col=\"is_legendary\",    # This allows for the separation of the plots\n",
    "           data=df_capture_rate)"
   ]
  },
  {
   "cell_type": "markdown",
   "metadata": {},
   "source": [
    "This is a linear model plot, AKA lmplot. It shows the correlation between data in a linear way, with the 'hue' property acting as a separator between these models. If the hue property isn't set, then the plot will create the linear model taking all the data into consideration."
   ]
  },
  {
   "cell_type": "markdown",
   "metadata": {},
   "source": [
    "The lmbplot is a very powerful tool that allows us to build different kinds of models and use a big variety of properties to manipulate data."
   ]
  },
  {
   "cell_type": "markdown",
   "metadata": {},
   "source": [
    "Ok, let's proceed a bit further now. Capture_rate and base_stats were useful to confirm our guesses, but not enough to create a predictive model. We will also use some other features for this. Experience growth might tell us more. Let's check that."
   ]
  },
  {
   "cell_type": "code",
   "execution_count": 13,
   "metadata": {},
   "outputs": [
    {
     "name": "stderr",
     "output_type": "stream",
     "text": [
      "C:\\Users\\guilh\\anaconda3\\lib\\site-packages\\seaborn\\categorical.py:1296: UserWarning: 81.4% of the points cannot be placed; you may want to decrease the size of the markers or use stripplot.\n",
      "  warnings.warn(msg, UserWarning)\n",
      "C:\\Users\\guilh\\anaconda3\\lib\\site-packages\\seaborn\\categorical.py:1296: UserWarning: 60.0% of the points cannot be placed; you may want to decrease the size of the markers or use stripplot.\n",
      "  warnings.warn(msg, UserWarning)\n"
     ]
    },
    {
     "data": {
      "text/plain": [
       "<AxesSubplot:xlabel='is_legendary', ylabel='experience_growth'>"
      ]
     },
     "execution_count": 13,
     "metadata": {},
     "output_type": "execute_result"
    },
    {
     "data": {
      "image/png": "[encoded data removed]",
      "text/plain": [
       "<Figure size 432x288 with 1 Axes>"
      ]
     },
     "metadata": {
      "needs_background": "light"
     },
     "output_type": "display_data"
    }
   ],
   "source": [
    "sns.swarmplot(x=df['is_legendary'],\n",
    "             y=df['experience_growth'])"
   ]
  },
  {
   "cell_type": "markdown",
   "metadata": {},
   "source": [
    "A surprise, to be sure. Experience growth does not seem to be a very strong feature of legendaries. Although, they do posses mostly the same growth rate. That might come in handy in the future."
   ]
  },
  {
   "cell_type": "markdown",
   "metadata": {},
   "source": [
    "## Processing the data"
   ]
  },
  {
   "cell_type": "code",
   "execution_count": 14,
   "metadata": {},
   "outputs": [
    {
     "name": "stdout",
     "output_type": "stream",
     "text": [
      "<class 'pandas.core.frame.DataFrame'>\n",
      "RangeIndex: 801 entries, 0 to 800\n",
      "Data columns (total 41 columns):\n",
      " #   Column             Non-Null Count  Dtype  \n",
      "---  ------             --------------  -----  \n",
      " 0   abilities          801 non-null    object \n",
      " 1   against_bug        801 non-null    float64\n",
      " 2   against_dark       801 non-null    float64\n",
      " 3   against_dragon     801 non-null    float64\n",
      " 4   against_electric   801 non-null    float64\n",
      " 5   against_fairy      801 non-null    float64\n",
      " 6   against_fight      801 non-null    float64\n",
      " 7   against_fire       801 non-null    float64\n",
      " 8   against_flying     801 non-null    float64\n",
      " 9   against_ghost      801 non-null    float64\n",
      " 10  against_grass      801 non-null    float64\n",
      " 11  against_ground     801 non-null    float64\n",
      " 12  against_ice        801 non-null    float64\n",
      " 13  against_normal     801 non-null    float64\n",
      " 14  against_poison     801 non-null    float64\n",
      " 15  against_psychic    801 non-null    float64\n",
      " 16  against_rock       801 non-null    float64\n",
      " 17  against_steel      801 non-null    float64\n",
      " 18  against_water      801 non-null    float64\n",
      " 19  attack             801 non-null    int64  \n",
      " 20  base_egg_steps     801 non-null    int64  \n",
      " 21  base_happiness     801 non-null    int64  \n",
      " 22  base_total         801 non-null    int64  \n",
      " 23  capture_rate       801 non-null    object \n",
      " 24  classfication      801 non-null    object \n",
      " 25  defense            801 non-null    int64  \n",
      " 26  experience_growth  801 non-null    int64  \n",
      " 27  height_m           781 non-null    float64\n",
      " 28  hp                 801 non-null    int64  \n",
      " 29  japanese_name      801 non-null    object \n",
      " 30  name               801 non-null    object \n",
      " 31  percentage_male    703 non-null    float64\n",
      " 32  pokedex_number     801 non-null    int64  \n",
      " 33  sp_attack          801 non-null    int64  \n",
      " 34  sp_defense         801 non-null    int64  \n",
      " 35  speed              801 non-null    int64  \n",
      " 36  type1              801 non-null    object \n",
      " 37  type2              417 non-null    object \n",
      " 38  weight_kg          781 non-null    float64\n",
      " 39  generation         801 non-null    int64  \n",
      " 40  is_legendary       801 non-null    int64  \n",
      "dtypes: float64(21), int64(13), object(7)\n",
      "memory usage: 256.7+ KB\n"
     ]
    }
   ],
   "source": [
    "df.info()"
   ]
  },
  {
   "cell_type": "markdown",
   "metadata": {},
   "source": [
    "All the features seem to vary in data types, so we will preprocess the ones that may give us better insight in predicting legendaries. Here's the ones we'll use for this model:"
   ]
  },
  {
   "cell_type": "code",
   "execution_count": 15,
   "metadata": {},
   "outputs": [
    {
     "name": "stdout",
     "output_type": "stream",
     "text": [
      "['percentage_male', 'type1', 'type2', 'height_m', 'weight_kg', 'experience_growth', 'hp', 'attack', 'base_total', 'defense', 'sp_attack', 'sp_defense', 'speed', 'capture_rate']\n"
     ]
    }
   ],
   "source": [
    "pkm_mfeatures = ['percentage_male', 'type1', 'type2', 'height_m', 'weight_kg',\n",
    "                 'experience_growth', 'hp', 'attack', 'base_total',\n",
    "                 'defense', 'sp_attack', 'sp_defense', 'speed', 'capture_rate'] \n",
    "\n",
    "# I don't think percentage_male is useful since legendaries usually don't have a gender. But I'll look into it later.\n",
    "\n",
    "print(pkm_mfeatures)\n",
    "\n",
    "pkm_mval = df[pkm_mfeatures]\n",
    "x = pd.DataFrame(pkm_mval)\n",
    "\n",
    "# Setting the target data\n",
    "y = df.is_legendary"
   ]
  },
  {
   "cell_type": "markdown",
   "metadata": {},
   "source": [
    "### Dealing with null values\n",
    "Currently, there are three columns that contain null values"
   ]
  },
  {
   "cell_type": "code",
   "execution_count": 16,
   "metadata": {},
   "outputs": [
    {
     "data": {
      "text/plain": [
       "percentage_male       98\n",
       "type1                  0\n",
       "type2                384\n",
       "height_m              20\n",
       "weight_kg             20\n",
       "experience_growth      0\n",
       "hp                     0\n",
       "attack                 0\n",
       "base_total             0\n",
       "defense                0\n",
       "sp_attack              0\n",
       "sp_defense             0\n",
       "speed                  0\n",
       "capture_rate           0\n",
       "dtype: int64"
      ]
     },
     "execution_count": 16,
     "metadata": {},
     "output_type": "execute_result"
    }
   ],
   "source": [
    "# Returning all columns with the amount of null values in each column\n",
    "x.isnull().sum()"
   ]
  },
  {
   "cell_type": "markdown",
   "metadata": {},
   "source": [
    "###### Types\n",
    "Pokemon have special characteristics, such as types that make them unique. For example, if their species is based off of an aquatic mammal, their type would be considered water. Many species have more than one type, as shown below."
   ]
  },
  {
   "cell_type": "code",
   "execution_count": 17,
   "metadata": {},
   "outputs": [
    {
     "data": {
      "text/plain": [
       "type1  type2   \n",
       "bug    electric     4\n",
       "       fairy        2\n",
       "       fighting     3\n",
       "       fire         2\n",
       "       flying      13\n",
       "                   ..\n",
       "water  ice          3\n",
       "       poison       3\n",
       "       psychic      5\n",
       "       rock         4\n",
       "       steel        1\n",
       "Length: 148, dtype: int64"
      ]
     },
     "execution_count": 17,
     "metadata": {},
     "output_type": "execute_result"
    }
   ],
   "source": [
    "x[x['type2'] != 'None'].groupby(['type1', 'type2']).size()"
   ]
  },
  {
   "cell_type": "code",
   "execution_count": 18,
   "metadata": {},
   "outputs": [
    {
     "data": {
      "text/html": [
       "<div>\n",
       "<style scoped>\n",
       "    .dataframe tbody tr th:only-of-type {\n",
       "        vertical-align: middle;\n",
       "    }\n",
       "\n",
       "    .dataframe tbody tr th {\n",
       "        vertical-align: top;\n",
       "    }\n",
       "\n",
       "    .dataframe thead th {\n",
       "        text-align: right;\n",
       "    }\n",
       "</style>\n",
       "<table border=\"1\" class=\"dataframe\">\n",
       "  <thead>\n",
       "    <tr style=\"text-align: right;\">\n",
       "      <th>type2</th>\n",
       "      <th>bug</th>\n",
       "      <th>dark</th>\n",
       "      <th>dragon</th>\n",
       "      <th>electric</th>\n",
       "      <th>fairy</th>\n",
       "      <th>fighting</th>\n",
       "      <th>fire</th>\n",
       "      <th>flying</th>\n",
       "      <th>ghost</th>\n",
       "      <th>grass</th>\n",
       "      <th>ground</th>\n",
       "      <th>ice</th>\n",
       "      <th>normal</th>\n",
       "      <th>poison</th>\n",
       "      <th>psychic</th>\n",
       "      <th>rock</th>\n",
       "      <th>steel</th>\n",
       "      <th>water</th>\n",
       "    </tr>\n",
       "    <tr>\n",
       "      <th>type1</th>\n",
       "      <th></th>\n",
       "      <th></th>\n",
       "      <th></th>\n",
       "      <th></th>\n",
       "      <th></th>\n",
       "      <th></th>\n",
       "      <th></th>\n",
       "      <th></th>\n",
       "      <th></th>\n",
       "      <th></th>\n",
       "      <th></th>\n",
       "      <th></th>\n",
       "      <th></th>\n",
       "      <th></th>\n",
       "      <th></th>\n",
       "      <th></th>\n",
       "      <th></th>\n",
       "      <th></th>\n",
       "    </tr>\n",
       "  </thead>\n",
       "  <tbody>\n",
       "    <tr>\n",
       "      <th>bug</th>\n",
       "      <td>NaN</td>\n",
       "      <td>NaN</td>\n",
       "      <td>NaN</td>\n",
       "      <td>4.0</td>\n",
       "      <td>2.0</td>\n",
       "      <td>3.0</td>\n",
       "      <td>2.0</td>\n",
       "      <td>13.0</td>\n",
       "      <td>1.0</td>\n",
       "      <td>6.0</td>\n",
       "      <td>1.0</td>\n",
       "      <td>NaN</td>\n",
       "      <td>NaN</td>\n",
       "      <td>11.0</td>\n",
       "      <td>NaN</td>\n",
       "      <td>3.0</td>\n",
       "      <td>5.0</td>\n",
       "      <td>3.0</td>\n",
       "    </tr>\n",
       "    <tr>\n",
       "      <th>dark</th>\n",
       "      <td>NaN</td>\n",
       "      <td>NaN</td>\n",
       "      <td>4.0</td>\n",
       "      <td>NaN</td>\n",
       "      <td>NaN</td>\n",
       "      <td>2.0</td>\n",
       "      <td>2.0</td>\n",
       "      <td>5.0</td>\n",
       "      <td>1.0</td>\n",
       "      <td>NaN</td>\n",
       "      <td>NaN</td>\n",
       "      <td>2.0</td>\n",
       "      <td>NaN</td>\n",
       "      <td>NaN</td>\n",
       "      <td>2.0</td>\n",
       "      <td>NaN</td>\n",
       "      <td>2.0</td>\n",
       "      <td>NaN</td>\n",
       "    </tr>\n",
       "    <tr>\n",
       "      <th>dragon</th>\n",
       "      <td>NaN</td>\n",
       "      <td>NaN</td>\n",
       "      <td>NaN</td>\n",
       "      <td>1.0</td>\n",
       "      <td>NaN</td>\n",
       "      <td>2.0</td>\n",
       "      <td>1.0</td>\n",
       "      <td>4.0</td>\n",
       "      <td>NaN</td>\n",
       "      <td>NaN</td>\n",
       "      <td>4.0</td>\n",
       "      <td>1.0</td>\n",
       "      <td>NaN</td>\n",
       "      <td>NaN</td>\n",
       "      <td>2.0</td>\n",
       "      <td>NaN</td>\n",
       "      <td>NaN</td>\n",
       "      <td>NaN</td>\n",
       "    </tr>\n",
       "    <tr>\n",
       "      <th>electric</th>\n",
       "      <td>NaN</td>\n",
       "      <td>NaN</td>\n",
       "      <td>NaN</td>\n",
       "      <td>1.0</td>\n",
       "      <td>2.0</td>\n",
       "      <td>NaN</td>\n",
       "      <td>NaN</td>\n",
       "      <td>3.0</td>\n",
       "      <td>1.0</td>\n",
       "      <td>NaN</td>\n",
       "      <td>NaN</td>\n",
       "      <td>NaN</td>\n",
       "      <td>2.0</td>\n",
       "      <td>NaN</td>\n",
       "      <td>NaN</td>\n",
       "      <td>NaN</td>\n",
       "      <td>4.0</td>\n",
       "      <td>NaN</td>\n",
       "    </tr>\n",
       "    <tr>\n",
       "      <th>fairy</th>\n",
       "      <td>NaN</td>\n",
       "      <td>NaN</td>\n",
       "      <td>NaN</td>\n",
       "      <td>NaN</td>\n",
       "      <td>NaN</td>\n",
       "      <td>NaN</td>\n",
       "      <td>NaN</td>\n",
       "      <td>2.0</td>\n",
       "      <td>NaN</td>\n",
       "      <td>NaN</td>\n",
       "      <td>NaN</td>\n",
       "      <td>NaN</td>\n",
       "      <td>NaN</td>\n",
       "      <td>NaN</td>\n",
       "      <td>NaN</td>\n",
       "      <td>NaN</td>\n",
       "      <td>NaN</td>\n",
       "      <td>NaN</td>\n",
       "    </tr>\n",
       "    <tr>\n",
       "      <th>fighting</th>\n",
       "      <td>NaN</td>\n",
       "      <td>1.0</td>\n",
       "      <td>NaN</td>\n",
       "      <td>NaN</td>\n",
       "      <td>NaN</td>\n",
       "      <td>NaN</td>\n",
       "      <td>NaN</td>\n",
       "      <td>1.0</td>\n",
       "      <td>NaN</td>\n",
       "      <td>NaN</td>\n",
       "      <td>NaN</td>\n",
       "      <td>1.0</td>\n",
       "      <td>NaN</td>\n",
       "      <td>NaN</td>\n",
       "      <td>2.0</td>\n",
       "      <td>NaN</td>\n",
       "      <td>1.0</td>\n",
       "      <td>NaN</td>\n",
       "    </tr>\n",
       "    <tr>\n",
       "      <th>fire</th>\n",
       "      <td>NaN</td>\n",
       "      <td>1.0</td>\n",
       "      <td>1.0</td>\n",
       "      <td>NaN</td>\n",
       "      <td>NaN</td>\n",
       "      <td>6.0</td>\n",
       "      <td>1.0</td>\n",
       "      <td>6.0</td>\n",
       "      <td>NaN</td>\n",
       "      <td>NaN</td>\n",
       "      <td>2.0</td>\n",
       "      <td>2.0</td>\n",
       "      <td>2.0</td>\n",
       "      <td>NaN</td>\n",
       "      <td>1.0</td>\n",
       "      <td>1.0</td>\n",
       "      <td>1.0</td>\n",
       "      <td>1.0</td>\n",
       "    </tr>\n",
       "    <tr>\n",
       "      <th>flying</th>\n",
       "      <td>NaN</td>\n",
       "      <td>NaN</td>\n",
       "      <td>2.0</td>\n",
       "      <td>NaN</td>\n",
       "      <td>NaN</td>\n",
       "      <td>NaN</td>\n",
       "      <td>NaN</td>\n",
       "      <td>NaN</td>\n",
       "      <td>NaN</td>\n",
       "      <td>NaN</td>\n",
       "      <td>NaN</td>\n",
       "      <td>NaN</td>\n",
       "      <td>NaN</td>\n",
       "      <td>NaN</td>\n",
       "      <td>NaN</td>\n",
       "      <td>NaN</td>\n",
       "      <td>NaN</td>\n",
       "      <td>NaN</td>\n",
       "    </tr>\n",
       "    <tr>\n",
       "      <th>ghost</th>\n",
       "      <td>NaN</td>\n",
       "      <td>1.0</td>\n",
       "      <td>1.0</td>\n",
       "      <td>NaN</td>\n",
       "      <td>1.0</td>\n",
       "      <td>NaN</td>\n",
       "      <td>3.0</td>\n",
       "      <td>2.0</td>\n",
       "      <td>NaN</td>\n",
       "      <td>5.0</td>\n",
       "      <td>2.0</td>\n",
       "      <td>NaN</td>\n",
       "      <td>NaN</td>\n",
       "      <td>3.0</td>\n",
       "      <td>NaN</td>\n",
       "      <td>NaN</td>\n",
       "      <td>NaN</td>\n",
       "      <td>NaN</td>\n",
       "    </tr>\n",
       "    <tr>\n",
       "      <th>grass</th>\n",
       "      <td>NaN</td>\n",
       "      <td>3.0</td>\n",
       "      <td>NaN</td>\n",
       "      <td>NaN</td>\n",
       "      <td>5.0</td>\n",
       "      <td>3.0</td>\n",
       "      <td>NaN</td>\n",
       "      <td>6.0</td>\n",
       "      <td>1.0</td>\n",
       "      <td>1.0</td>\n",
       "      <td>1.0</td>\n",
       "      <td>2.0</td>\n",
       "      <td>NaN</td>\n",
       "      <td>14.0</td>\n",
       "      <td>2.0</td>\n",
       "      <td>NaN</td>\n",
       "      <td>3.0</td>\n",
       "      <td>NaN</td>\n",
       "    </tr>\n",
       "    <tr>\n",
       "      <th>ground</th>\n",
       "      <td>NaN</td>\n",
       "      <td>3.0</td>\n",
       "      <td>2.0</td>\n",
       "      <td>1.0</td>\n",
       "      <td>NaN</td>\n",
       "      <td>NaN</td>\n",
       "      <td>1.0</td>\n",
       "      <td>3.0</td>\n",
       "      <td>2.0</td>\n",
       "      <td>NaN</td>\n",
       "      <td>2.0</td>\n",
       "      <td>2.0</td>\n",
       "      <td>NaN</td>\n",
       "      <td>NaN</td>\n",
       "      <td>2.0</td>\n",
       "      <td>3.0</td>\n",
       "      <td>1.0</td>\n",
       "      <td>NaN</td>\n",
       "    </tr>\n",
       "    <tr>\n",
       "      <th>ice</th>\n",
       "      <td>NaN</td>\n",
       "      <td>NaN</td>\n",
       "      <td>NaN</td>\n",
       "      <td>NaN</td>\n",
       "      <td>NaN</td>\n",
       "      <td>NaN</td>\n",
       "      <td>NaN</td>\n",
       "      <td>2.0</td>\n",
       "      <td>1.0</td>\n",
       "      <td>NaN</td>\n",
       "      <td>3.0</td>\n",
       "      <td>NaN</td>\n",
       "      <td>NaN</td>\n",
       "      <td>NaN</td>\n",
       "      <td>2.0</td>\n",
       "      <td>NaN</td>\n",
       "      <td>NaN</td>\n",
       "      <td>3.0</td>\n",
       "    </tr>\n",
       "    <tr>\n",
       "      <th>normal</th>\n",
       "      <td>NaN</td>\n",
       "      <td>4.0</td>\n",
       "      <td>1.0</td>\n",
       "      <td>NaN</td>\n",
       "      <td>4.0</td>\n",
       "      <td>2.0</td>\n",
       "      <td>NaN</td>\n",
       "      <td>26.0</td>\n",
       "      <td>NaN</td>\n",
       "      <td>2.0</td>\n",
       "      <td>1.0</td>\n",
       "      <td>NaN</td>\n",
       "      <td>NaN</td>\n",
       "      <td>NaN</td>\n",
       "      <td>3.0</td>\n",
       "      <td>NaN</td>\n",
       "      <td>NaN</td>\n",
       "      <td>1.0</td>\n",
       "    </tr>\n",
       "    <tr>\n",
       "      <th>poison</th>\n",
       "      <td>1.0</td>\n",
       "      <td>3.0</td>\n",
       "      <td>1.0</td>\n",
       "      <td>NaN</td>\n",
       "      <td>NaN</td>\n",
       "      <td>2.0</td>\n",
       "      <td>2.0</td>\n",
       "      <td>3.0</td>\n",
       "      <td>NaN</td>\n",
       "      <td>NaN</td>\n",
       "      <td>2.0</td>\n",
       "      <td>NaN</td>\n",
       "      <td>NaN</td>\n",
       "      <td>2.0</td>\n",
       "      <td>NaN</td>\n",
       "      <td>NaN</td>\n",
       "      <td>NaN</td>\n",
       "      <td>3.0</td>\n",
       "    </tr>\n",
       "    <tr>\n",
       "      <th>psychic</th>\n",
       "      <td>NaN</td>\n",
       "      <td>NaN</td>\n",
       "      <td>NaN</td>\n",
       "      <td>NaN</td>\n",
       "      <td>6.0</td>\n",
       "      <td>1.0</td>\n",
       "      <td>1.0</td>\n",
       "      <td>6.0</td>\n",
       "      <td>2.0</td>\n",
       "      <td>1.0</td>\n",
       "      <td>NaN</td>\n",
       "      <td>NaN</td>\n",
       "      <td>NaN</td>\n",
       "      <td>NaN</td>\n",
       "      <td>NaN</td>\n",
       "      <td>NaN</td>\n",
       "      <td>1.0</td>\n",
       "      <td>NaN</td>\n",
       "    </tr>\n",
       "    <tr>\n",
       "      <th>rock</th>\n",
       "      <td>2.0</td>\n",
       "      <td>1.0</td>\n",
       "      <td>2.0</td>\n",
       "      <td>NaN</td>\n",
       "      <td>2.0</td>\n",
       "      <td>1.0</td>\n",
       "      <td>NaN</td>\n",
       "      <td>4.0</td>\n",
       "      <td>NaN</td>\n",
       "      <td>2.0</td>\n",
       "      <td>6.0</td>\n",
       "      <td>2.0</td>\n",
       "      <td>NaN</td>\n",
       "      <td>1.0</td>\n",
       "      <td>2.0</td>\n",
       "      <td>NaN</td>\n",
       "      <td>3.0</td>\n",
       "      <td>6.0</td>\n",
       "    </tr>\n",
       "    <tr>\n",
       "      <th>steel</th>\n",
       "      <td>NaN</td>\n",
       "      <td>NaN</td>\n",
       "      <td>1.0</td>\n",
       "      <td>NaN</td>\n",
       "      <td>3.0</td>\n",
       "      <td>1.0</td>\n",
       "      <td>NaN</td>\n",
       "      <td>2.0</td>\n",
       "      <td>3.0</td>\n",
       "      <td>NaN</td>\n",
       "      <td>1.0</td>\n",
       "      <td>NaN</td>\n",
       "      <td>NaN</td>\n",
       "      <td>NaN</td>\n",
       "      <td>6.0</td>\n",
       "      <td>3.0</td>\n",
       "      <td>NaN</td>\n",
       "      <td>NaN</td>\n",
       "    </tr>\n",
       "    <tr>\n",
       "      <th>water</th>\n",
       "      <td>2.0</td>\n",
       "      <td>4.0</td>\n",
       "      <td>2.0</td>\n",
       "      <td>2.0</td>\n",
       "      <td>4.0</td>\n",
       "      <td>2.0</td>\n",
       "      <td>NaN</td>\n",
       "      <td>7.0</td>\n",
       "      <td>2.0</td>\n",
       "      <td>3.0</td>\n",
       "      <td>9.0</td>\n",
       "      <td>3.0</td>\n",
       "      <td>NaN</td>\n",
       "      <td>3.0</td>\n",
       "      <td>5.0</td>\n",
       "      <td>4.0</td>\n",
       "      <td>1.0</td>\n",
       "      <td>NaN</td>\n",
       "    </tr>\n",
       "  </tbody>\n",
       "</table>\n",
       "</div>"
      ],
      "text/plain": [
       "type2     bug  dark  dragon  electric  fairy  fighting  fire  flying  ghost  \\\n",
       "type1                                                                         \n",
       "bug       NaN   NaN     NaN       4.0    2.0       3.0   2.0    13.0    1.0   \n",
       "dark      NaN   NaN     4.0       NaN    NaN       2.0   2.0     5.0    1.0   \n",
       "dragon    NaN   NaN     NaN       1.0    NaN       2.0   1.0     4.0    NaN   \n",
       "electric  NaN   NaN     NaN       1.0    2.0       NaN   NaN     3.0    1.0   \n",
       "fairy     NaN   NaN     NaN       NaN    NaN       NaN   NaN     2.0    NaN   \n",
       "fighting  NaN   1.0     NaN       NaN    NaN       NaN   NaN     1.0    NaN   \n",
       "fire      NaN   1.0     1.0       NaN    NaN       6.0   1.0     6.0    NaN   \n",
       "flying    NaN   NaN     2.0       NaN    NaN       NaN   NaN     NaN    NaN   \n",
       "ghost     NaN   1.0     1.0       NaN    1.0       NaN   3.0     2.0    NaN   \n",
       "grass     NaN   3.0     NaN       NaN    5.0       3.0   NaN     6.0    1.0   \n",
       "ground    NaN   3.0     2.0       1.0    NaN       NaN   1.0     3.0    2.0   \n",
       "ice       NaN   NaN     NaN       NaN    NaN       NaN   NaN     2.0    1.0   \n",
       "normal    NaN   4.0     1.0       NaN    4.0       2.0   NaN    26.0    NaN   \n",
       "poison    1.0   3.0     1.0       NaN    NaN       2.0   2.0     3.0    NaN   \n",
       "psychic   NaN   NaN     NaN       NaN    6.0       1.0   1.0     6.0    2.0   \n",
       "rock      2.0   1.0     2.0       NaN    2.0       1.0   NaN     4.0    NaN   \n",
       "steel     NaN   NaN     1.0       NaN    3.0       1.0   NaN     2.0    3.0   \n",
       "water     2.0   4.0     2.0       2.0    4.0       2.0   NaN     7.0    2.0   \n",
       "\n",
       "type2     grass  ground  ice  normal  poison  psychic  rock  steel  water  \n",
       "type1                                                                      \n",
       "bug         6.0     1.0  NaN     NaN    11.0      NaN   3.0    5.0    3.0  \n",
       "dark        NaN     NaN  2.0     NaN     NaN      2.0   NaN    2.0    NaN  \n",
       "dragon      NaN     4.0  1.0     NaN     NaN      2.0   NaN    NaN    NaN  \n",
       "electric    NaN     NaN  NaN     2.0     NaN      NaN   NaN    4.0    NaN  \n",
       "fairy       NaN     NaN  NaN     NaN     NaN      NaN   NaN    NaN    NaN  \n",
       "fighting    NaN     NaN  1.0     NaN     NaN      2.0   NaN    1.0    NaN  \n",
       "fire        NaN     2.0  2.0     2.0     NaN      1.0   1.0    1.0    1.0  \n",
       "flying      NaN     NaN  NaN     NaN     NaN      NaN   NaN    NaN    NaN  \n",
       "ghost       5.0     2.0  NaN     NaN     3.0      NaN   NaN    NaN    NaN  \n",
       "grass       1.0     1.0  2.0     NaN    14.0      2.0   NaN    3.0    NaN  \n",
       "ground      NaN     2.0  2.0     NaN     NaN      2.0   3.0    1.0    NaN  \n",
       "ice         NaN     3.0  NaN     NaN     NaN      2.0   NaN    NaN    3.0  \n",
       "normal      2.0     1.0  NaN     NaN     NaN      3.0   NaN    NaN    1.0  \n",
       "poison      NaN     2.0  NaN     NaN     2.0      NaN   NaN    NaN    3.0  \n",
       "psychic     1.0     NaN  NaN     NaN     NaN      NaN   NaN    1.0    NaN  \n",
       "rock        2.0     6.0  2.0     NaN     1.0      2.0   NaN    3.0    6.0  \n",
       "steel       NaN     1.0  NaN     NaN     NaN      6.0   3.0    NaN    NaN  \n",
       "water       3.0     9.0  3.0     NaN     3.0      5.0   4.0    1.0    NaN  "
      ]
     },
     "execution_count": 18,
     "metadata": {},
     "output_type": "execute_result"
    }
   ],
   "source": [
    "x[x['type2'] != 'None'].groupby(['type1', 'type2']).size().unstack()"
   ]
  },
  {
   "cell_type": "markdown",
   "metadata": {},
   "source": [
    "Because there are species that one contain one type, we will set their type2 NaN values to 'None'."
   ]
  },
  {
   "cell_type": "code",
   "execution_count": 19,
   "metadata": {},
   "outputs": [],
   "source": [
    "x['type2'].fillna('None', inplace=True)\n",
    "x['percentage_male'].fillna(0, inplace=True)"
   ]
  },
  {
   "cell_type": "code",
   "execution_count": 20,
   "metadata": {},
   "outputs": [
    {
     "data": {
      "image/png": "[encoded data removed]",
      "text/plain": [
       "<Figure size 1080x1080 with 2 Axes>"
      ]
     },
     "metadata": {
      "needs_background": "light"
     },
     "output_type": "display_data"
    }
   ],
   "source": [
    "plt.subplots(figsize=(15, 15))\n",
    "sns.heatmap(\n",
    "    # Select records where type_2 isn't null, then group by types\n",
    "    # The .size() method computes the size of groups, e.g. there's 26 occurances of Pokemon with the 'Normal' and 'Flying' types\n",
    "    # The .unstack() method is self-explanatory, the examples above might help to understand it\n",
    "    x[x['type2'] != 'None'].groupby(['type1', 'type2']).size().unstack(),\n",
    "    linewidths = 1,\n",
    "    annot = True,        # Puts the values in each square\n",
    "    cmap = 'RdYlBu_r'    #Color\n",
    ")\n",
    "\n",
    "plt.show()"
   ]
  },
  {
   "cell_type": "markdown",
   "metadata": {},
   "source": [
    "##### Height and Weight\n",
    "For these null values, I will use the SimpleImputer function below."
   ]
  },
  {
   "cell_type": "markdown",
   "metadata": {},
   "source": [
    "## Random Forest Model\n",
    "We will utilize a RFModel with a pipeline implementation."
   ]
  },
  {
   "cell_type": "code",
   "execution_count": 21,
   "metadata": {},
   "outputs": [],
   "source": [
    "from sklearn.model_selection import train_test_split\n",
    "from sklearn.compose import ColumnTransformer\n",
    "from sklearn.pipeline import Pipeline\n",
    "from sklearn.impute import SimpleImputer\n",
    "from sklearn.preprocessing import OneHotEncoder\n",
    "from sklearn.ensemble import RandomForestClassifier"
   ]
  },
  {
   "cell_type": "markdown",
   "metadata": {},
   "source": [
    "Now we will separate the training and testing data. 80% of the data will be used in training and the remaining 20% will be for evaluation of the model."
   ]
  },
  {
   "cell_type": "code",
   "execution_count": 22,
   "metadata": {},
   "outputs": [],
   "source": [
    "X_train, X_valid, y_train, y_valid = train_test_split(x, y, train_size=0.8, test_size=0.2, random_state=0)"
   ]
  },
  {
   "cell_type": "markdown",
   "metadata": {},
   "source": [
    "We need to separate our data columns, since the nature of their data is different."
   ]
  },
  {
   "cell_type": "code",
   "execution_count": 23,
   "metadata": {},
   "outputs": [
    {
     "name": "stdout",
     "output_type": "stream",
     "text": [
      "['type1', 'type2', 'capture_rate']\n"
     ]
    }
   ],
   "source": [
    "# Select categorical columns\n",
    "categorical_cols = [cname for cname in X_train.columns if X_train[cname].dtype == 'object']\n",
    "print(categorical_cols)"
   ]
  },
  {
   "cell_type": "code",
   "execution_count": 24,
   "metadata": {},
   "outputs": [
    {
     "name": "stdout",
     "output_type": "stream",
     "text": [
      "['percentage_male', 'height_m', 'weight_kg', 'experience_growth', 'hp', 'attack', 'base_total', 'defense', 'sp_attack', 'sp_defense', 'speed']\n"
     ]
    }
   ],
   "source": [
    "# Select numerical columns\n",
    "numerical_cols = [cname for cname in X_train.columns if X_train[cname].dtype in ['int64', 'float64']]\n",
    "print(numerical_cols)"
   ]
  },
  {
   "cell_type": "code",
   "execution_count": 25,
   "metadata": {},
   "outputs": [],
   "source": [
    "# Preprocessing the numerical data\n",
    "numerical_transform = SimpleImputer(strategy='mean')   # Fills the None values with the mean of the other values in the column"
   ]
  },
  {
   "cell_type": "code",
   "execution_count": 27,
   "metadata": {},
   "outputs": [],
   "source": [
    "# Preprocessing the categorical transform\n",
    "# The Pipeline is a series of transforms with a final estimator\n",
    "# For more details check https://scikit-learn.org/stable/modules/generated/sklearn.pipeline.Pipeline.html\n",
    "\n",
    "# So what is happening here is that our categorical data preprocessing pipeline has two steps to follow\n",
    "# First, we will impute the most frequent value into the missing values\n",
    "# Then, we will use OneHotEncoder to transform each row of categorical values into a numeric array\n",
    "# Basically, it encodes different categorical values into a number and encodes it into an array\n",
    "# with other categorical values from a certain row\n",
    "# E.g.: [0, 1, 1] could mean a certain Pokemon's type1 is 'bug', type2 is 'flying', classification is 'Poison bee'\n",
    "# while [5, 1, 4] could mean another Pokemon's type1 is 'fairy', type2 is 'flying' and classification is 'Balloon'\n",
    "\n",
    "categorical_transform = Pipeline(steps = [('imputer', SimpleImputer(strategy = 'most_frequent')),\n",
    "                                          ('onehot', OneHotEncoder(handle_unknown='ignore'))])\n"
   ]
  },
  {
   "cell_type": "code",
   "execution_count": 29,
   "metadata": {},
   "outputs": [],
   "source": [
    "# Bundling the preprocessing transformers\n",
    "# This is responsible for applying the transforms into the data\n",
    "# transformers prop receives a list of tuples (name, transformer, columns)\n",
    "preprocessor = ColumnTransformer(transformers = [('num', numerical_transform, numerical_cols),\n",
    "                                                 ('cat', categorical_transform, categorical_cols)])"
   ]
  },
  {
   "cell_type": "code",
   "execution_count": 30,
   "metadata": {},
   "outputs": [],
   "source": [
    "# Define models\n",
    "# Study this model more in depth later\n",
    "rf_model = RandomForestClassifier(n_estimators=100, random_state=0)"
   ]
  },
  {
   "cell_type": "code",
   "execution_count": 31,
   "metadata": {},
   "outputs": [],
   "source": [
    "# Combine preprocesser with model in a pipeline\n",
    "# Basically what is happening here is that we are creating a final pipeline to connect the preprocessor for the data\n",
    "# And the RF model\n",
    "p1 = Pipeline(steps=[('preprocessorrf', preprocessor), ('modelrf', rf_model)])"
   ]
  },
  {
   "cell_type": "code",
   "execution_count": 33,
   "metadata": {},
   "outputs": [
    {
     "data": {
      "text/plain": [
       "Pipeline(steps=[('preprocessorrf',\n",
       "                 ColumnTransformer(transformers=[('num', SimpleImputer(),\n",
       "                                                  ['percentage_male',\n",
       "                                                   'height_m', 'weight_kg',\n",
       "                                                   'experience_growth', 'hp',\n",
       "                                                   'attack', 'base_total',\n",
       "                                                   'defense', 'sp_attack',\n",
       "                                                   'sp_defense', 'speed']),\n",
       "                                                 ('cat',\n",
       "                                                  Pipeline(steps=[('imputer',\n",
       "                                                                   SimpleImputer(strategy='most_frequent')),\n",
       "                                                                  ('onehot',\n",
       "                                                                   OneHotEncoder(handle_unknown='ignore'))]),\n",
       "                                                  ['type1', 'type2',\n",
       "                                                   'capture_rate'])])),\n",
       "                ('modelrf', RandomForestClassifier(random_state=0))])"
      ]
     },
     "execution_count": 33,
     "metadata": {},
     "output_type": "execute_result"
    }
   ],
   "source": [
    "# Preprocess of training data, fit the model\n",
    "# This prints a very nice view of the connected pipelines\n",
    "p1.fit(X_train, y_train)"
   ]
  },
  {
   "cell_type": "code",
   "execution_count": 34,
   "metadata": {},
   "outputs": [],
   "source": [
    "# Process validation data, obtain predictions\n",
    "p1pred = p1.predict(X_valid)"
   ]
  },
  {
   "cell_type": "code",
   "execution_count": 35,
   "metadata": {},
   "outputs": [],
   "source": [
    "preds1 = df.index[p1pred]"
   ]
  },
  {
   "cell_type": "code",
   "execution_count": 36,
   "metadata": {},
   "outputs": [
    {
     "data": {
      "text/html": [
       "<div>\n",
       "<style scoped>\n",
       "    .dataframe tbody tr th:only-of-type {\n",
       "        vertical-align: middle;\n",
       "    }\n",
       "\n",
       "    .dataframe tbody tr th {\n",
       "        vertical-align: top;\n",
       "    }\n",
       "\n",
       "    .dataframe thead th {\n",
       "        text-align: right;\n",
       "    }\n",
       "</style>\n",
       "<table border=\"1\" class=\"dataframe\">\n",
       "  <thead>\n",
       "    <tr style=\"text-align: right;\">\n",
       "      <th>Predicted Legendary</th>\n",
       "      <th>0</th>\n",
       "      <th>1</th>\n",
       "    </tr>\n",
       "    <tr>\n",
       "      <th>Actual Legendary</th>\n",
       "      <th></th>\n",
       "      <th></th>\n",
       "    </tr>\n",
       "  </thead>\n",
       "  <tbody>\n",
       "    <tr>\n",
       "      <th>0</th>\n",
       "      <td>145</td>\n",
       "      <td>1</td>\n",
       "    </tr>\n",
       "    <tr>\n",
       "      <th>1</th>\n",
       "      <td>6</td>\n",
       "      <td>9</td>\n",
       "    </tr>\n",
       "  </tbody>\n",
       "</table>\n",
       "</div>"
      ],
      "text/plain": [
       "Predicted Legendary    0  1\n",
       "Actual Legendary           \n",
       "0                    145  1\n",
       "1                      6  9"
      ]
     },
     "execution_count": 36,
     "metadata": {},
     "output_type": "execute_result"
    }
   ],
   "source": [
    "pd.crosstab(y_valid, preds1, rownames=['Actual Legendary'], colnames=['Predicted Legendary'])"
   ]
  },
  {
   "cell_type": "code",
   "execution_count": 37,
   "metadata": {},
   "outputs": [
    {
     "name": "stdout",
     "output_type": "stream",
     "text": [
      "Model Accuracy:  95.65217391304348\n"
     ]
    }
   ],
   "source": [
    "print('Model Accuracy: ', (154/161)*100)"
   ]
  },
  {
   "cell_type": "markdown",
   "metadata": {},
   "source": [
    "Although the accuracy as a whole had a decent result, the accuracy in which it predicted legendaries was 9/15 which is 60%. There are a few things that I can do that could improve the accuracy. Some of the columns that I had one-hot encoded appeared to have a high cardinality - which may affect the result of my model.\n",
    "\n",
    "Personal note: I believe certain columns like 'name' or 'pokedex_number' should be taken out. Let's see what this guy does.\n",
    "\n",
    "Unfortunately the pipeline implementation does not support Label Encoding, so I will have to do it manually."
   ]
  },
  {
   "cell_type": "code",
   "execution_count": 38,
   "metadata": {},
   "outputs": [],
   "source": [
    "from sklearn.preprocessing import LabelEncoder\n",
    "from sklearn.impute import SimpleImputer"
   ]
  },
  {
   "cell_type": "code",
   "execution_count": 39,
   "metadata": {},
   "outputs": [],
   "source": [
    "# Make copy to avoid changing original data\n",
    "label_X_train = X_train.copy()\n",
    "label_X_valid = X_valid.copy()"
   ]
  },
  {
   "cell_type": "markdown",
   "metadata": {},
   "source": [
    "UNDERSTAND WHAT IS HAPPENING HERE !!!!!!!!!!!!!"
   ]
  },
  {
   "cell_type": "code",
   "execution_count": 40,
   "metadata": {},
   "outputs": [],
   "source": [
    "# Apply label encoder to each column with categorical data\n",
    "# The LabelEncoder, differently from the OneHotEncoder, is responsible for encoding target labels with values between 0 and n-1\n",
    "# Of course, n being the number of unique labels\n",
    "# E.g. [\"paris\", \"paris\", \"tokyo\", \"amsterdam\"] = [1, 1, 2, 3]\n",
    "# le.transform([\"tokyo\", \"tokyo\", \"paris\"]) = [2, 2, 1]\n",
    "\n",
    "# In this case, this is useful because of the high cardinality within the data\n",
    "\n",
    "label_encoder = LabelEncoder()\n",
    "for col in categorical_cols:\n",
    "    label_X_train[col] = label_encoder.fit_transform(X_train[col]) #Fit label encoder and return encoded labels.\n",
    "    label_X_valid[col] = label_encoder.transform(X_valid[col]) #Transform labels to normalized encoding.\n",
    "    \n",
    "# I managed to grasp a lot of concepts with these lines of code, but I still need to study more the 'normalized encoding'"
   ]
  },
  {
   "cell_type": "code",
   "execution_count": 41,
   "metadata": {},
   "outputs": [
    {
     "data": {
      "text/html": [
       "<div>\n",
       "<style scoped>\n",
       "    .dataframe tbody tr th:only-of-type {\n",
       "        vertical-align: middle;\n",
       "    }\n",
       "\n",
       "    .dataframe tbody tr th {\n",
       "        vertical-align: top;\n",
       "    }\n",
       "\n",
       "    .dataframe thead th {\n",
       "        text-align: right;\n",
       "    }\n",
       "</style>\n",
       "<table border=\"1\" class=\"dataframe\">\n",
       "  <thead>\n",
       "    <tr style=\"text-align: right;\">\n",
       "      <th></th>\n",
       "      <th>percentage_male</th>\n",
       "      <th>type1</th>\n",
       "      <th>type2</th>\n",
       "      <th>height_m</th>\n",
       "      <th>weight_kg</th>\n",
       "      <th>experience_growth</th>\n",
       "      <th>hp</th>\n",
       "      <th>attack</th>\n",
       "      <th>base_total</th>\n",
       "      <th>defense</th>\n",
       "      <th>sp_attack</th>\n",
       "      <th>sp_defense</th>\n",
       "      <th>speed</th>\n",
       "      <th>capture_rate</th>\n",
       "    </tr>\n",
       "  </thead>\n",
       "  <tbody>\n",
       "    <tr>\n",
       "      <th>364</th>\n",
       "      <td>50.0</td>\n",
       "      <td>11</td>\n",
       "      <td>18</td>\n",
       "      <td>1.4</td>\n",
       "      <td>150.6</td>\n",
       "      <td>1059860</td>\n",
       "      <td>110</td>\n",
       "      <td>80</td>\n",
       "      <td>530</td>\n",
       "      <td>90</td>\n",
       "      <td>95</td>\n",
       "      <td>90</td>\n",
       "      <td>65</td>\n",
       "      <td>25</td>\n",
       "    </tr>\n",
       "    <tr>\n",
       "      <th>458</th>\n",
       "      <td>50.0</td>\n",
       "      <td>9</td>\n",
       "      <td>12</td>\n",
       "      <td>1.0</td>\n",
       "      <td>50.5</td>\n",
       "      <td>1250000</td>\n",
       "      <td>60</td>\n",
       "      <td>62</td>\n",
       "      <td>334</td>\n",
       "      <td>50</td>\n",
       "      <td>62</td>\n",
       "      <td>60</td>\n",
       "      <td>40</td>\n",
       "      <td>1</td>\n",
       "    </tr>\n",
       "    <tr>\n",
       "      <th>76</th>\n",
       "      <td>50.0</td>\n",
       "      <td>6</td>\n",
       "      <td>0</td>\n",
       "      <td>1.0</td>\n",
       "      <td>30.0</td>\n",
       "      <td>1000000</td>\n",
       "      <td>50</td>\n",
       "      <td>85</td>\n",
       "      <td>410</td>\n",
       "      <td>55</td>\n",
       "      <td>65</td>\n",
       "      <td>65</td>\n",
       "      <td>90</td>\n",
       "      <td>13</td>\n",
       "    </tr>\n",
       "    <tr>\n",
       "      <th>64</th>\n",
       "      <td>75.4</td>\n",
       "      <td>14</td>\n",
       "      <td>0</td>\n",
       "      <td>1.5</td>\n",
       "      <td>48.0</td>\n",
       "      <td>1059860</td>\n",
       "      <td>55</td>\n",
       "      <td>50</td>\n",
       "      <td>600</td>\n",
       "      <td>65</td>\n",
       "      <td>175</td>\n",
       "      <td>105</td>\n",
       "      <td>150</td>\n",
       "      <td>26</td>\n",
       "    </tr>\n",
       "    <tr>\n",
       "      <th>638</th>\n",
       "      <td>0.0</td>\n",
       "      <td>15</td>\n",
       "      <td>6</td>\n",
       "      <td>1.9</td>\n",
       "      <td>260.0</td>\n",
       "      <td>1250000</td>\n",
       "      <td>91</td>\n",
       "      <td>129</td>\n",
       "      <td>580</td>\n",
       "      <td>90</td>\n",
       "      <td>72</td>\n",
       "      <td>90</td>\n",
       "      <td>108</td>\n",
       "      <td>21</td>\n",
       "    </tr>\n",
       "    <tr>\n",
       "      <th>...</th>\n",
       "      <td>...</td>\n",
       "      <td>...</td>\n",
       "      <td>...</td>\n",
       "      <td>...</td>\n",
       "      <td>...</td>\n",
       "      <td>...</td>\n",
       "      <td>...</td>\n",
       "      <td>...</td>\n",
       "      <td>...</td>\n",
       "      <td>...</td>\n",
       "      <td>...</td>\n",
       "      <td>...</td>\n",
       "      <td>...</td>\n",
       "      <td>...</td>\n",
       "    </tr>\n",
       "    <tr>\n",
       "      <th>763</th>\n",
       "      <td>24.6</td>\n",
       "      <td>4</td>\n",
       "      <td>0</td>\n",
       "      <td>0.1</td>\n",
       "      <td>0.3</td>\n",
       "      <td>800000</td>\n",
       "      <td>51</td>\n",
       "      <td>52</td>\n",
       "      <td>485</td>\n",
       "      <td>90</td>\n",
       "      <td>82</td>\n",
       "      <td>110</td>\n",
       "      <td>100</td>\n",
       "      <td>28</td>\n",
       "    </tr>\n",
       "    <tr>\n",
       "      <th>192</th>\n",
       "      <td>50.0</td>\n",
       "      <td>0</td>\n",
       "      <td>8</td>\n",
       "      <td>1.2</td>\n",
       "      <td>38.0</td>\n",
       "      <td>1000000</td>\n",
       "      <td>65</td>\n",
       "      <td>65</td>\n",
       "      <td>390</td>\n",
       "      <td>45</td>\n",
       "      <td>75</td>\n",
       "      <td>45</td>\n",
       "      <td>95</td>\n",
       "      <td>31</td>\n",
       "    </tr>\n",
       "    <tr>\n",
       "      <th>629</th>\n",
       "      <td>0.0</td>\n",
       "      <td>1</td>\n",
       "      <td>8</td>\n",
       "      <td>1.2</td>\n",
       "      <td>39.5</td>\n",
       "      <td>1250000</td>\n",
       "      <td>110</td>\n",
       "      <td>65</td>\n",
       "      <td>510</td>\n",
       "      <td>105</td>\n",
       "      <td>55</td>\n",
       "      <td>95</td>\n",
       "      <td>80</td>\n",
       "      <td>28</td>\n",
       "    </tr>\n",
       "    <tr>\n",
       "      <th>559</th>\n",
       "      <td>50.0</td>\n",
       "      <td>1</td>\n",
       "      <td>6</td>\n",
       "      <td>1.1</td>\n",
       "      <td>30.0</td>\n",
       "      <td>1000000</td>\n",
       "      <td>65</td>\n",
       "      <td>90</td>\n",
       "      <td>488</td>\n",
       "      <td>115</td>\n",
       "      <td>45</td>\n",
       "      <td>115</td>\n",
       "      <td>58</td>\n",
       "      <td>33</td>\n",
       "    </tr>\n",
       "    <tr>\n",
       "      <th>684</th>\n",
       "      <td>50.0</td>\n",
       "      <td>4</td>\n",
       "      <td>0</td>\n",
       "      <td>0.8</td>\n",
       "      <td>5.0</td>\n",
       "      <td>1000000</td>\n",
       "      <td>82</td>\n",
       "      <td>80</td>\n",
       "      <td>480</td>\n",
       "      <td>86</td>\n",
       "      <td>85</td>\n",
       "      <td>75</td>\n",
       "      <td>72</td>\n",
       "      <td>5</td>\n",
       "    </tr>\n",
       "  </tbody>\n",
       "</table>\n",
       "<p>640 rows × 14 columns</p>\n",
       "</div>"
      ],
      "text/plain": [
       "     percentage_male  type1  type2  height_m  weight_kg  experience_growth  \\\n",
       "364             50.0     11     18       1.4      150.6            1059860   \n",
       "458             50.0      9     12       1.0       50.5            1250000   \n",
       "76              50.0      6      0       1.0       30.0            1000000   \n",
       "64              75.4     14      0       1.5       48.0            1059860   \n",
       "638              0.0     15      6       1.9      260.0            1250000   \n",
       "..               ...    ...    ...       ...        ...                ...   \n",
       "763             24.6      4      0       0.1        0.3             800000   \n",
       "192             50.0      0      8       1.2       38.0            1000000   \n",
       "629              0.0      1      8       1.2       39.5            1250000   \n",
       "559             50.0      1      6       1.1       30.0            1000000   \n",
       "684             50.0      4      0       0.8        5.0            1000000   \n",
       "\n",
       "      hp  attack  base_total  defense  sp_attack  sp_defense  speed  \\\n",
       "364  110      80         530       90         95          90     65   \n",
       "458   60      62         334       50         62          60     40   \n",
       "76    50      85         410       55         65          65     90   \n",
       "64    55      50         600       65        175         105    150   \n",
       "638   91     129         580       90         72          90    108   \n",
       "..   ...     ...         ...      ...        ...         ...    ...   \n",
       "763   51      52         485       90         82         110    100   \n",
       "192   65      65         390       45         75          45     95   \n",
       "629  110      65         510      105         55          95     80   \n",
       "559   65      90         488      115         45         115     58   \n",
       "684   82      80         480       86         85          75     72   \n",
       "\n",
       "     capture_rate  \n",
       "364            25  \n",
       "458             1  \n",
       "76             13  \n",
       "64             26  \n",
       "638            21  \n",
       "..            ...  \n",
       "763            28  \n",
       "192            31  \n",
       "629            28  \n",
       "559            33  \n",
       "684             5  \n",
       "\n",
       "[640 rows x 14 columns]"
      ]
     },
     "execution_count": 41,
     "metadata": {},
     "output_type": "execute_result"
    }
   ],
   "source": [
    "label_X_train"
   ]
  },
  {
   "cell_type": "code",
   "execution_count": 42,
   "metadata": {},
   "outputs": [],
   "source": [
    "# Imputation\n",
    "imputed_X_train = pd.DataFrame(numerical_transform.fit_transform(label_X_train))\n",
    "imputed_X_valid = pd.DataFrame(numerical_transform.transform(label_X_valid))\n",
    "\n",
    "# Ok so here the features are transformed to numbers but I don't really get why as they were already numbers"
   ]
  },
  {
   "cell_type": "code",
   "execution_count": 43,
   "metadata": {},
   "outputs": [],
   "source": [
    "# Imputation removed column names, put them back\n",
    "imputed_X_train.columns = label_X_train.columns\n",
    "imputed_X_valid.columns = label_X_valid.columns"
   ]
  },
  {
   "cell_type": "code",
   "execution_count": 44,
   "metadata": {},
   "outputs": [
    {
     "data": {
      "text/html": [
       "<div>\n",
       "<style scoped>\n",
       "    .dataframe tbody tr th:only-of-type {\n",
       "        vertical-align: middle;\n",
       "    }\n",
       "\n",
       "    .dataframe tbody tr th {\n",
       "        vertical-align: top;\n",
       "    }\n",
       "\n",
       "    .dataframe thead th {\n",
       "        text-align: right;\n",
       "    }\n",
       "</style>\n",
       "<table border=\"1\" class=\"dataframe\">\n",
       "  <thead>\n",
       "    <tr style=\"text-align: right;\">\n",
       "      <th></th>\n",
       "      <th>percentage_male</th>\n",
       "      <th>type1</th>\n",
       "      <th>type2</th>\n",
       "      <th>height_m</th>\n",
       "      <th>weight_kg</th>\n",
       "      <th>experience_growth</th>\n",
       "      <th>hp</th>\n",
       "      <th>attack</th>\n",
       "      <th>base_total</th>\n",
       "      <th>defense</th>\n",
       "      <th>sp_attack</th>\n",
       "      <th>sp_defense</th>\n",
       "      <th>speed</th>\n",
       "      <th>capture_rate</th>\n",
       "    </tr>\n",
       "  </thead>\n",
       "  <tbody>\n",
       "    <tr>\n",
       "      <th>0</th>\n",
       "      <td>50.0</td>\n",
       "      <td>11.0</td>\n",
       "      <td>18.0</td>\n",
       "      <td>1.4</td>\n",
       "      <td>150.6</td>\n",
       "      <td>1059860.0</td>\n",
       "      <td>110.0</td>\n",
       "      <td>80.0</td>\n",
       "      <td>530.0</td>\n",
       "      <td>90.0</td>\n",
       "      <td>95.0</td>\n",
       "      <td>90.0</td>\n",
       "      <td>65.0</td>\n",
       "      <td>25.0</td>\n",
       "    </tr>\n",
       "    <tr>\n",
       "      <th>1</th>\n",
       "      <td>50.0</td>\n",
       "      <td>9.0</td>\n",
       "      <td>12.0</td>\n",
       "      <td>1.0</td>\n",
       "      <td>50.5</td>\n",
       "      <td>1250000.0</td>\n",
       "      <td>60.0</td>\n",
       "      <td>62.0</td>\n",
       "      <td>334.0</td>\n",
       "      <td>50.0</td>\n",
       "      <td>62.0</td>\n",
       "      <td>60.0</td>\n",
       "      <td>40.0</td>\n",
       "      <td>1.0</td>\n",
       "    </tr>\n",
       "    <tr>\n",
       "      <th>2</th>\n",
       "      <td>50.0</td>\n",
       "      <td>6.0</td>\n",
       "      <td>0.0</td>\n",
       "      <td>1.0</td>\n",
       "      <td>30.0</td>\n",
       "      <td>1000000.0</td>\n",
       "      <td>50.0</td>\n",
       "      <td>85.0</td>\n",
       "      <td>410.0</td>\n",
       "      <td>55.0</td>\n",
       "      <td>65.0</td>\n",
       "      <td>65.0</td>\n",
       "      <td>90.0</td>\n",
       "      <td>13.0</td>\n",
       "    </tr>\n",
       "    <tr>\n",
       "      <th>3</th>\n",
       "      <td>75.4</td>\n",
       "      <td>14.0</td>\n",
       "      <td>0.0</td>\n",
       "      <td>1.5</td>\n",
       "      <td>48.0</td>\n",
       "      <td>1059860.0</td>\n",
       "      <td>55.0</td>\n",
       "      <td>50.0</td>\n",
       "      <td>600.0</td>\n",
       "      <td>65.0</td>\n",
       "      <td>175.0</td>\n",
       "      <td>105.0</td>\n",
       "      <td>150.0</td>\n",
       "      <td>26.0</td>\n",
       "    </tr>\n",
       "    <tr>\n",
       "      <th>4</th>\n",
       "      <td>0.0</td>\n",
       "      <td>15.0</td>\n",
       "      <td>6.0</td>\n",
       "      <td>1.9</td>\n",
       "      <td>260.0</td>\n",
       "      <td>1250000.0</td>\n",
       "      <td>91.0</td>\n",
       "      <td>129.0</td>\n",
       "      <td>580.0</td>\n",
       "      <td>90.0</td>\n",
       "      <td>72.0</td>\n",
       "      <td>90.0</td>\n",
       "      <td>108.0</td>\n",
       "      <td>21.0</td>\n",
       "    </tr>\n",
       "    <tr>\n",
       "      <th>...</th>\n",
       "      <td>...</td>\n",
       "      <td>...</td>\n",
       "      <td>...</td>\n",
       "      <td>...</td>\n",
       "      <td>...</td>\n",
       "      <td>...</td>\n",
       "      <td>...</td>\n",
       "      <td>...</td>\n",
       "      <td>...</td>\n",
       "      <td>...</td>\n",
       "      <td>...</td>\n",
       "      <td>...</td>\n",
       "      <td>...</td>\n",
       "      <td>...</td>\n",
       "    </tr>\n",
       "    <tr>\n",
       "      <th>635</th>\n",
       "      <td>24.6</td>\n",
       "      <td>4.0</td>\n",
       "      <td>0.0</td>\n",
       "      <td>0.1</td>\n",
       "      <td>0.3</td>\n",
       "      <td>800000.0</td>\n",
       "      <td>51.0</td>\n",
       "      <td>52.0</td>\n",
       "      <td>485.0</td>\n",
       "      <td>90.0</td>\n",
       "      <td>82.0</td>\n",
       "      <td>110.0</td>\n",
       "      <td>100.0</td>\n",
       "      <td>28.0</td>\n",
       "    </tr>\n",
       "    <tr>\n",
       "      <th>636</th>\n",
       "      <td>50.0</td>\n",
       "      <td>0.0</td>\n",
       "      <td>8.0</td>\n",
       "      <td>1.2</td>\n",
       "      <td>38.0</td>\n",
       "      <td>1000000.0</td>\n",
       "      <td>65.0</td>\n",
       "      <td>65.0</td>\n",
       "      <td>390.0</td>\n",
       "      <td>45.0</td>\n",
       "      <td>75.0</td>\n",
       "      <td>45.0</td>\n",
       "      <td>95.0</td>\n",
       "      <td>31.0</td>\n",
       "    </tr>\n",
       "    <tr>\n",
       "      <th>637</th>\n",
       "      <td>0.0</td>\n",
       "      <td>1.0</td>\n",
       "      <td>8.0</td>\n",
       "      <td>1.2</td>\n",
       "      <td>39.5</td>\n",
       "      <td>1250000.0</td>\n",
       "      <td>110.0</td>\n",
       "      <td>65.0</td>\n",
       "      <td>510.0</td>\n",
       "      <td>105.0</td>\n",
       "      <td>55.0</td>\n",
       "      <td>95.0</td>\n",
       "      <td>80.0</td>\n",
       "      <td>28.0</td>\n",
       "    </tr>\n",
       "    <tr>\n",
       "      <th>638</th>\n",
       "      <td>50.0</td>\n",
       "      <td>1.0</td>\n",
       "      <td>6.0</td>\n",
       "      <td>1.1</td>\n",
       "      <td>30.0</td>\n",
       "      <td>1000000.0</td>\n",
       "      <td>65.0</td>\n",
       "      <td>90.0</td>\n",
       "      <td>488.0</td>\n",
       "      <td>115.0</td>\n",
       "      <td>45.0</td>\n",
       "      <td>115.0</td>\n",
       "      <td>58.0</td>\n",
       "      <td>33.0</td>\n",
       "    </tr>\n",
       "    <tr>\n",
       "      <th>639</th>\n",
       "      <td>50.0</td>\n",
       "      <td>4.0</td>\n",
       "      <td>0.0</td>\n",
       "      <td>0.8</td>\n",
       "      <td>5.0</td>\n",
       "      <td>1000000.0</td>\n",
       "      <td>82.0</td>\n",
       "      <td>80.0</td>\n",
       "      <td>480.0</td>\n",
       "      <td>86.0</td>\n",
       "      <td>85.0</td>\n",
       "      <td>75.0</td>\n",
       "      <td>72.0</td>\n",
       "      <td>5.0</td>\n",
       "    </tr>\n",
       "  </tbody>\n",
       "</table>\n",
       "<p>640 rows × 14 columns</p>\n",
       "</div>"
      ],
      "text/plain": [
       "     percentage_male  type1  type2  height_m  weight_kg  experience_growth  \\\n",
       "0               50.0   11.0   18.0       1.4      150.6          1059860.0   \n",
       "1               50.0    9.0   12.0       1.0       50.5          1250000.0   \n",
       "2               50.0    6.0    0.0       1.0       30.0          1000000.0   \n",
       "3               75.4   14.0    0.0       1.5       48.0          1059860.0   \n",
       "4                0.0   15.0    6.0       1.9      260.0          1250000.0   \n",
       "..               ...    ...    ...       ...        ...                ...   \n",
       "635             24.6    4.0    0.0       0.1        0.3           800000.0   \n",
       "636             50.0    0.0    8.0       1.2       38.0          1000000.0   \n",
       "637              0.0    1.0    8.0       1.2       39.5          1250000.0   \n",
       "638             50.0    1.0    6.0       1.1       30.0          1000000.0   \n",
       "639             50.0    4.0    0.0       0.8        5.0          1000000.0   \n",
       "\n",
       "        hp  attack  base_total  defense  sp_attack  sp_defense  speed  \\\n",
       "0    110.0    80.0       530.0     90.0       95.0        90.0   65.0   \n",
       "1     60.0    62.0       334.0     50.0       62.0        60.0   40.0   \n",
       "2     50.0    85.0       410.0     55.0       65.0        65.0   90.0   \n",
       "3     55.0    50.0       600.0     65.0      175.0       105.0  150.0   \n",
       "4     91.0   129.0       580.0     90.0       72.0        90.0  108.0   \n",
       "..     ...     ...         ...      ...        ...         ...    ...   \n",
       "635   51.0    52.0       485.0     90.0       82.0       110.0  100.0   \n",
       "636   65.0    65.0       390.0     45.0       75.0        45.0   95.0   \n",
       "637  110.0    65.0       510.0    105.0       55.0        95.0   80.0   \n",
       "638   65.0    90.0       488.0    115.0       45.0       115.0   58.0   \n",
       "639   82.0    80.0       480.0     86.0       85.0        75.0   72.0   \n",
       "\n",
       "     capture_rate  \n",
       "0            25.0  \n",
       "1             1.0  \n",
       "2            13.0  \n",
       "3            26.0  \n",
       "4            21.0  \n",
       "..            ...  \n",
       "635          28.0  \n",
       "636          31.0  \n",
       "637          28.0  \n",
       "638          33.0  \n",
       "639           5.0  \n",
       "\n",
       "[640 rows x 14 columns]"
      ]
     },
     "execution_count": 44,
     "metadata": {},
     "output_type": "execute_result"
    }
   ],
   "source": [
    "imputed_X_train"
   ]
  },
  {
   "cell_type": "code",
   "execution_count": 46,
   "metadata": {},
   "outputs": [
    {
     "data": {
      "text/html": [
       "<div>\n",
       "<style scoped>\n",
       "    .dataframe tbody tr th:only-of-type {\n",
       "        vertical-align: middle;\n",
       "    }\n",
       "\n",
       "    .dataframe tbody tr th {\n",
       "        vertical-align: top;\n",
       "    }\n",
       "\n",
       "    .dataframe thead th {\n",
       "        text-align: right;\n",
       "    }\n",
       "</style>\n",
       "<table border=\"1\" class=\"dataframe\">\n",
       "  <thead>\n",
       "    <tr style=\"text-align: right;\">\n",
       "      <th>Predicted Legendary</th>\n",
       "      <th>0</th>\n",
       "      <th>1</th>\n",
       "    </tr>\n",
       "    <tr>\n",
       "      <th>Actual Legendary</th>\n",
       "      <th></th>\n",
       "      <th></th>\n",
       "    </tr>\n",
       "  </thead>\n",
       "  <tbody>\n",
       "    <tr>\n",
       "      <th>0</th>\n",
       "      <td>145</td>\n",
       "      <td>1</td>\n",
       "    </tr>\n",
       "    <tr>\n",
       "      <th>1</th>\n",
       "      <td>3</td>\n",
       "      <td>12</td>\n",
       "    </tr>\n",
       "  </tbody>\n",
       "</table>\n",
       "</div>"
      ],
      "text/plain": [
       "Predicted Legendary    0   1\n",
       "Actual Legendary            \n",
       "0                    145   1\n",
       "1                      3  12"
      ]
     },
     "execution_count": 46,
     "metadata": {},
     "output_type": "execute_result"
    }
   ],
   "source": [
    "# Using RandomForest Model\n",
    "rf_model.fit(imputed_X_train, y_train) # Training model\n",
    "\n",
    "rf_preds = rf_model.predict(imputed_X_valid) # Predicting with model\n",
    "visualizerf = x.index[rf_preds] # Predicted columns (I think)\n",
    "\n",
    "pd.crosstab(y_valid, visualizerf, rownames=['Actual Legendary'], colnames=['Predicted Legendary'])"
   ]
  },
  {
   "cell_type": "code",
   "execution_count": 47,
   "metadata": {},
   "outputs": [
    {
     "name": "stdout",
     "output_type": "stream",
     "text": [
      "Model 2 accuracy:  97.51552795031056\n",
      "Model 2 accuracy for predicting legendaries:  80.0\n"
     ]
    }
   ],
   "source": [
    "print('Model 2 accuracy: ', (157/161)*100)\n",
    "print('Model 2 accuracy for predicting legendaries: ', (12/15)*100)"
   ]
  },
  {
   "cell_type": "markdown",
   "metadata": {},
   "source": [
    "There was an increase in precision with this model's predictions: an 80% accuracy in classifying legendary Pokemon (without utilizing a pipeline implementation + one hot encoding)."
   ]
  },
  {
   "cell_type": "markdown",
   "metadata": {},
   "source": [
    "### Gradient Boosting Model\n",
    "Let's try this one. Study how it works first."
   ]
  },
  {
   "cell_type": "code",
   "execution_count": null,
   "metadata": {},
   "outputs": [],
   "source": []
  },
  {
   "cell_type": "code",
   "execution_count": null,
   "metadata": {},
   "outputs": [],
   "source": []
  },
  {
   "cell_type": "code",
   "execution_count": null,
   "metadata": {},
   "outputs": [],
   "source": []
  },
  {
   "cell_type": "markdown",
   "metadata": {},
   "source": [
    "My stuff:"
   ]
  },
  {
   "cell_type": "markdown",
   "metadata": {},
   "source": [
    "First, let's cut out the columns we already know won't be of use to us."
   ]
  },
  {
   "cell_type": "code",
   "execution_count": null,
   "metadata": {},
   "outputs": [],
   "source": [
    "df.drop('japanese_name', axis=1, inplace=True)\n",
    "df.columns"
   ]
  },
  {
   "cell_type": "markdown",
   "metadata": {},
   "source": [
    "I think whe should now normalize the data, for instance \"against\" type columns and \"sp_attack\" are both numerical, however they have very different meanings and measures. Need to figure this out."
   ]
  },
  {
   "cell_type": "code",
   "execution_count": null,
   "metadata": {},
   "outputs": [],
   "source": [
    "df['classfication'][:50]"
   ]
  },
  {
   "cell_type": "code",
   "execution_count": null,
   "metadata": {},
   "outputs": [],
   "source": []
  },
  {
   "cell_type": "code",
   "execution_count": null,
   "metadata": {},
   "outputs": [],
   "source": []
  }
 ],
 "metadata": {
  "colab": {
   "name": "poke-cluster.ipynb",
   "provenance": []
  },
  "kernelspec": {
   "display_name": "Python 3",
   "language": "python",
   "name": "python3"
  },
  "language_info": {
   "codemirror_mode": {
    "name": "ipython",
    "version": 3
   },
   "file_extension": ".py",
   "mimetype": "text/x-python",
   "name": "python",
   "nbconvert_exporter": "python",
   "pygments_lexer": "ipython3",
   "version": "3.8.8"
  }
 },
 "nbformat": 4,
 "nbformat_minor": 1
}
